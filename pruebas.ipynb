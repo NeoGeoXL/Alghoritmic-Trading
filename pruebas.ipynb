{
 "cells": [
  {
   "cell_type": "code",
   "execution_count": 32,
   "metadata": {},
   "outputs": [],
   "source": [
    "from ibapi.client import EClient\n",
    "from ibapi.wrapper import EWrapper\n",
    "from ibapi.contract import Contract\n",
    "from datetime import datetime, timedelta\n",
    "import pandas as pd"
   ]
  },
  {
   "cell_type": "code",
   "execution_count": null,
   "metadata": {},
   "outputs": [],
   "source": []
  },
  {
   "cell_type": "code",
   "execution_count": 33,
   "metadata": {},
   "outputs": [],
   "source": [
    "class IBapi(EWrapper, EClient):\n",
    "    def __init__(self):\n",
    "        EClient.__init__(self,self)\n",
    "        cols = ['date', 'open', 'high', 'low', 'close']\n",
    "        self.df = pd.DataFrame(columns=cols)\n",
    "    \n",
    "    def historicalData(self, reqId, bar):\n",
    "        print(\" Date:\", bar.date, \"Open:\", bar.open, \"High:\", bar.high, \"Low:\", bar.low, \"Close:\", bar.close) #, \"Volume: \", bar.volume, \"Count: \", bar.barCount)\n",
    "        dftemp = pd.DataFrame({'date':bar.date,'open':bar.open,'high':bar.high,'low':bar.low, 'close':bar.close}, index=[0])\n",
    "        self.df = pd.concat([self.df, dftemp], axis=0)\n",
    "        \n",
    "    def historicalDataEnd(self, reqId: int, start: str, end: str):\n",
    "        super().historicalDataEnd(reqId, start, end)\n",
    "        print(\"HistoricalDataEnd. ReqId:\", reqId, \"from\", start, \"to\", end)\n",
    "        self.df.to_csv(r\"informe\\GBP_USD_1Y_15mins.csv\",index=True)\n",
    "        self.disconnect()\n",
    "\n"
   ]
  },
  {
   "cell_type": "code",
   "execution_count": 34,
   "metadata": {},
   "outputs": [],
   "source": [
    "app = IBapi()\n",
    "app.connect('127.0.0.1', 4002, 0)"
   ]
  },
  {
   "cell_type": "code",
   "execution_count": 35,
   "metadata": {},
   "outputs": [],
   "source": [
    "#Create contract object\n",
    "def defineContract(symbol,secType,exchange,currency='USD'):\n",
    "    contract = Contract()\n",
    "    contract.symbol = symbol\n",
    "    contract.secType = secType\n",
    "    contract.exchange = exchange\n",
    "    contract.currency = currency\n",
    "    return contract\n"
   ]
  },
  {
   "cell_type": "code",
   "execution_count": 36,
   "metadata": {},
   "outputs": [],
   "source": [
    "contract = defineContract(symbol='GBP',secType='CASH',exchange='IDEALPRO')\n",
    "queryTime = (datetime.today() - timedelta(days=30)).strftime(\"%Y%m%d %H:%M:%S\")\n",
    "#queryTime = \"\"\n",
    "duration = '1 Y'\n",
    "barsize = '15 mins'\n",
    "priceType = 'MIDPOINT'"
   ]
  },
  {
   "cell_type": "code",
   "execution_count": 37,
   "metadata": {},
   "outputs": [],
   "source": [
    "app.reqHistoricalData(1, contract, queryTime, duration, barsize, priceType, 1, 1, False, [])\n",
    "app.run()"
   ]
  },
  {
   "cell_type": "code",
   "execution_count": null,
   "metadata": {},
   "outputs": [],
   "source": []
  }
 ],
 "metadata": {
  "kernelspec": {
   "display_name": "Python 3.10.7 ('venv': venv)",
   "language": "python",
   "name": "python3"
  },
  "language_info": {
   "codemirror_mode": {
    "name": "ipython",
    "version": 3
   },
   "file_extension": ".py",
   "mimetype": "text/x-python",
   "name": "python",
   "nbconvert_exporter": "python",
   "pygments_lexer": "ipython3",
   "version": "3.10.7"
  },
  "orig_nbformat": 4,
  "vscode": {
   "interpreter": {
    "hash": "51270c9eee606aaa6829e7babc0aba9050df44d57a99fd53e5f357f633fc2bda"
   }
  }
 },
 "nbformat": 4,
 "nbformat_minor": 2
}
